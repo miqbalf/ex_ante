{
 "cells": [
  {
   "cell_type": "code",
   "execution_count": null,
   "id": "121b14bc-9a2c-46a1-8ca6-e74a96f41dac",
   "metadata": {},
   "outputs": [
    {
     "name": "stdout",
     "output_type": "stream",
     "text": [
      "current_module:  /Users/iqbal/ex_ante/ex_ante\n",
      "create a new project!\n"
     ]
    },
    {
     "name": "stdout",
     "output_type": "stream",
     "text": [
      "What is the project name?  test\n",
      "How long the project will last? now its 30 year using coredb and updated to 35, enter number only 30\n",
      "gap_harvest (yes/no) no\n",
      "enter number that maximum harvest percentage! only number! 59.9\n",
      "what year is the planting started -- please enter the number only (integer) 2025\n"
     ]
    },
    {
     "name": "stdout",
     "output_type": "stream",
     "text": [
      "Created, test project configuration!\n",
      "reading data csv link of https://docs.google.com/spreadsheets/d/e/2PACX-1vQN2_Y52mmzRwsmOgHbKYsKCS6FrzYir7OGhrEt-qBwRxevUu1ZwnCQSW3yVnwnjDO8MzaApQkpi0xf/pub?gid=0&single=true&output=csv and convert to df \n",
      "Saving to CSV: /Users/iqbal/ex_ante/ex_ante/ex_ante/allometry_model_2025-04-22.csv\n",
      "reading data csv link of https://docs.google.com/spreadsheets/d/e/2PACX-1vQN2_Y52mmzRwsmOgHbKYsKCS6FrzYir7OGhrEt-qBwRxevUu1ZwnCQSW3yVnwnjDO8MzaApQkpi0xf/pub?gid=964703972&single=true&output=csv and convert to df \n",
      "Saving to CSV: /Users/iqbal/ex_ante/ex_ante/ex_ante/growth_model_2025-04-22.csv\n",
      "num species based on allometry data 82\n",
      "num species based on growth data 62\n",
      "merging allometry + growth db species into unique\n",
      "num species unique based on all data 97\n",
      "here are the list of species does not have the info of allometry formula,               \n",
      " but has the info of growth data: \n",
      "  ['Gmelina arborea | Gmelina - IDN', 'Anthocephalus cadamba | White Jabon - Bonita V', 'Carpinus orientalis', 'Abies Alba', 'Afzelia africana | African Oak', 'Anthocephalus cadamba | White Jabon - Bonita III', 'Swietenia Macrophylla | Mahagoni', 'Picea abies', 'Cocos nucifera L|Coconut', 'Quercus pubescens', 'Anthocephalus cadamba | White Jabon - Bonita IV', 'Peronema canescens | Sungkai - IDN, Kalimantan', 'Anthocephalus cadamba | White Jabon - Bonita II', 'Anthocephalus cadamba | White Jabon - Bonita I', 'Alstonia scholaris | Pulai']\n",
      "total number of species for that are 15\n",
      "----------------------------------\n",
      "here are the list of species does not have the info of growth model,               \n",
      " but has the info of allometry formula: \n",
      "  ['Ilex canariensis_Demo', 'Psidium guajava_Demo', 'Salix spp. / USA', 'Cupressus sempervirens / Iran - Demo Grade', 'Carpinus betulus', 'Castanea sativa', 'Pinus Pinea / Stone Pine', 'Quercus robur', 'Juniperus phoenicea', 'Swietenia Macrophylla | Mahagoni_East Java', 'Laurus azorica', 'Acer pseudoplatanus_Demo', 'Quercus canariensis', 'Populus canadiensis x Populus maximowiczii', 'Tilia cordata_Demo', 'Prunus avium', 'Anacardium occidentale / Cashew / Benin', 'Pinus radiata', 'Melia azedarach', 'Abies pinsapo', 'Cocos nucifera L|Coconut-Tanzania', 'Liquidambar styraciflua_pruned', 'Juglans regia', 'Swietenia Macrophylla | Mahagoni_West Java', 'Alnus glutinosa_Demo', 'Juniperus oxycedrus', 'Pinus nigra', 'Liriodendron tulipifera', 'Abies alba', 'Liquidambar styraciflua', 'Quercus ilex / Holm Oak - USA', 'Fraxinus excelsior / England - Demo Grade', 'Pinus canariensis', 'Populus Tremula / Germany - Demo Grade', 'Platanus x hispanica']\n",
      "total number of species for that are 35\n",
      "----------------------------------\n",
      "now we will remove the NA species if they don\"t have either allometry or growth\n",
      "total number species clean to pair: 47\n",
      "['Pseudotsuga menziesii / Italy', 'Nephelium lappaceum | Rambutan', 'Tristaniopsis merquensis Griff | Pelawan', 'Shorea leprosula | Meranti', 'Markhamia lutea | Musambia', 'Fagus sylvatica / Czech Repub', 'Grevillea robusta | Kabwene - Kenya', 'Tectona grandis | Teak - Sulawesi (PT SRA - extrapolated)', 'Azadirachta indica', 'Melaleuca leucadendra | Gelam /Kayu putih', 'Parkia speciosa | Stinky bean (petai)', 'Paraserianthes falcataria | Sengon - Central Kalimantan', 'Toona sureni | Suren', 'Pinus caribaea | Carribean Pine - Nigeria', 'Pinus sylvestris / Czech Repub', 'Schima wallichii | Puspa', 'Tectona grandis | Teak - West Java', 'Maesopsis eminii | Musizi', 'Durio zibethinus | Durian - IDN', 'Tectona grandis | Teak - Sulawesi (PT SRA - Original)', 'Annona squamosa | Srikaya - IDN', 'Tectona grandis | Teak - Central Java', 'Vitex pinnata| Laban', 'Archidendron pauciflorum | Jengkol', 'Terminalia superba | Limba', 'Mangifera Indica Pruned BuFa formula', 'Manilkara Zapota | Sawo', 'Cordia subcordata | Jati Mas - IDN', 'Hevea brasiliensis | Rubber', 'Betula Pendula / Slovakia', 'Ficus variegata | Nyawai', 'Theobroma cacao | Cocoa', 'Melia volkensii', 'Quercus ssp. | Oak / England', 'Manglietia glauca | Manglid', 'Agathis damara | Damar', 'Anthocephalus cadamba | White Jabon - West Java', 'Aquilaria sp. | Gaharu/Agarwood', 'Mangifera indica | Mango - Burkina Faso', 'Acacia mangium | Brown Salwood', 'Schizolobium parahyba | Pakis', 'Paraserianthes falcataria | Sengon - Java', 'Artocarpus heterophyllus | Nangka', 'Altingia excelsa | Rasamala', 'Mangifera indica | Mango - Bangladesh', 'Pinus halapensis / Aleppo Pine / Spain', 'Persea americana | Avocado - IDN']\n"
     ]
    },
    {
     "data": {
      "application/vnd.jupyter.widget-view+json": {
       "model_id": "83d0ebd9007c4420bc94993fb5d19c6b",
       "version_major": 2,
       "version_minor": 0
      },
      "text/plain": [
       "SelectingScenario(children=(SelectMultiple(description='Country of Use:', index=(2, 12), options=('Germany', '…"
      ]
     },
     "metadata": {},
     "output_type": "display_data"
    },
    {
     "data": {
      "application/vnd.jupyter.widget-view+json": {
       "model_id": "5f607d67208c4885a82c7ec26938fe51",
       "version_major": 2,
       "version_minor": 0
      },
      "text/plain": [
       "Button(description='Submit species!', style=ButtonStyle())"
      ]
     },
     "metadata": {},
     "output_type": "display_data"
    },
    {
     "data": {
      "application/vnd.jupyter.widget-view+json": {
       "model_id": "667f64122a004384baec66adaa02bff4",
       "version_major": 2,
       "version_minor": 0
      },
      "text/plain": [
       "Output()"
      ]
     },
     "metadata": {},
     "output_type": "display_data"
    }
   ],
   "source": [
    "import json\n",
    "import os\n",
    "import sys\n",
    "\n",
    "# coredb (main) 30y product\n",
    "link_growth_model_data_csv = ''\n",
    "# here the loaded csv from sheet directly is published with anyone to access the link, ONLY with ONE SHEET, we can set and restrict to Treeo only after login, but we need json api etc\n",
    "link_allometry_csv_gsheet = ''\n",
    "\n",
    "# new model updated by david, coredb 35\n",
    "# link_growth_model_data_csv = ''\n",
    "# link_allometry_csv_gsheet = ''\n",
    "\n",
    "module_path = os.getcwd()\n",
    "print('current_module: ',module_path)\n",
    "\n",
    "json_config_relpath = '00_ex_ante_result/example_project.json'\n",
    "json_config_abspath = os.path.join(module_path,json_config_relpath)\n",
    "growth_csv_abs_path = os.path.join(module_path, 'ex_ante/growth_model_2024-08-13.csv')\n",
    "allometry_csv_abs_path = os.path.join(module_path,'ex_ante/allometry_model_2024-08-13.csv')\n",
    "\n",
    "\n",
    "from exante import ExAnteCalc\n",
    "\n",
    "ex_ante = ExAnteCalc(json_path_config = json_config_abspath, first_run=True, re_select_growth_data=False, # re_downlaod_growth_data you need to check .env to which link\n",
    "                     download_csv=True, # in .env\n",
    "                    growth_csv = growth_csv_abs_path, \n",
    "                  allometry_csv = allometry_csv_abs_path,\n",
    "                     link_allometry=link_allometry_csv_gsheet,\n",
    "                     link_growth=link_growth_model_data_csv,\n",
    "                   name_column_species_allo= 'Lat. Name', \n",
    "                   name_column_species_growth = 'Tree Species(+origin of allom. formula)')\n"
   ]
  },
  {
   "cell_type": "code",
   "execution_count": null,
   "id": "3617b0d3-43ea-4665-990f-671ae7f0d650",
   "metadata": {},
   "outputs": [],
   "source": []
  }
 ],
 "metadata": {
  "kernelspec": {
   "display_name": "Python 3 (ipykernel)",
   "language": "python",
   "name": "python3"
  },
  "language_info": {
   "codemirror_mode": {
    "name": "ipython",
    "version": 3
   },
   "file_extension": ".py",
   "mimetype": "text/x-python",
   "name": "python",
   "nbconvert_exporter": "python",
   "pygments_lexer": "ipython3",
   "version": "3.13.1"
  }
 },
 "nbformat": 4,
 "nbformat_minor": 5
}
