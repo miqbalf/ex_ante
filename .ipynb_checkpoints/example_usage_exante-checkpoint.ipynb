{
 "cells": [
  {
   "cell_type": "code",
   "execution_count": 5,
   "id": "121b14bc-9a2c-46a1-8ca6-e74a96f41dac",
   "metadata": {},
   "outputs": [],
   "source": [
    "import json\n",
    "import os\n",
    "import sys\n",
    "\n",
    "module_path = os.getcwd()\n",
    "print('current_module: ',module_path)\n",
    "\n",
    "json_config_relpath = '00_ex_ante_result/example_project.json'\n",
    "json_config_abspath = os.path.join(module_path,json_config_relpath)\n",
    "#growth_csv_abs_path = os.path.join(module_path, 'ex_ante/00_input/growth_model_2024-08-13.csv')\n",
    "#allometry_csv_abs_path = os.path.join(module_path,'ex_ante/00_input/allometry_model_2024-08-13.csv')\n",
    "\n",
    "\n",
    "from exante import ExAnteCalc\n",
    "\n",
    "ex_ante = ExAnteCalc(json_path_config = json_config_abspath, first_run=True, re_select_growth_data=False, # re_downlaod_growth_data you need to check .env to which link\n",
    "                     download_csv=True, # in .env\n",
    "#                     growth_csv = growth_csv_abs_path, \n",
    "#                   allometry_csv = allometry_csv_abs_path,\n",
    "                   name_column_species_allo= 'Lat. Name', \n",
    "                   name_column_species_growth = 'Tree Species(+origin of allom. formula)')\n"
   ]
  }
 ],
 "metadata": {
  "kernelspec": {
   "display_name": "Python 3 (ipykernel)",
   "language": "python",
   "name": "python3"
  },
  "language_info": {
   "codemirror_mode": {
    "name": "ipython",
    "version": 3
   },
   "file_extension": ".py",
   "mimetype": "text/x-python",
   "name": "python",
   "nbconvert_exporter": "python",
   "pygments_lexer": "ipython3",
   "version": "3.12.3"
  }
 },
 "nbformat": 4,
 "nbformat_minor": 5
}
